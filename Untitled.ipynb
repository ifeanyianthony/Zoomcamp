{
 "cells": [
  {
   "cell_type": "code",
   "execution_count": null,
   "id": "77100b4d-c029-4173-8b4b-86ef8dd023be",
   "metadata": {},
   "outputs": [],
   "source": []
  }
 ],
 "metadata": {
  "kernelspec": {
   "display_name": "",
   "name": ""
  },
  "language_info": {
   "name": ""
  }
 },
 "nbformat": 4,
 "nbformat_minor": 5
}
